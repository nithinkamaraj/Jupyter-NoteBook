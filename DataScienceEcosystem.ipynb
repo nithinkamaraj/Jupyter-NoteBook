{
 "cells": [
  {
   "cell_type": "markdown",
   "id": "302b3189-37e3-4f73-aab0-c52f62c15eba",
   "metadata": {},
   "source": [
    "# Data Science Tools and Ecosystem"
   ]
  },
  {
   "cell_type": "markdown",
   "id": "af28b3ec-79bc-4193-8d8c-a5ab197fe6c5",
   "metadata": {},
   "source": [
    "In this notebook, Data Science Tools and Ecosystem are summarized."
   ]
  },
  {
   "cell_type": "markdown",
   "id": "0d4eae24-2b24-4d55-9c7f-cdb5774c0ca4",
   "metadata": {},
   "source": [
    "Objectives:\n",
    "- List of popular languages for Data Science\n",
    "- List of popular libraries for Data Scientists\n",
    "- List of Data Science enviroiment tools\n",
    "- Examples of arithmetic operations in Python  "
   ]
  },
  {
   "cell_type": "markdown",
   "id": "50098238-4977-4973-8245-aed136f53d5b",
   "metadata": {},
   "source": [
    "Some of the popular languages that Data Scientists use are:\n",
    "\n",
    "1. Python\n",
    "2. R\n",
    "3. SQL\n",
    "4. Java"
   ]
  },
  {
   "cell_type": "markdown",
   "id": "b7f9a808-70db-4e0b-81d6-3d3d622a27a9",
   "metadata": {},
   "source": [
    "Some of the commonly used libraries used by Data Scientists include:\n",
    "1. Pandas\n",
    "2. NumPy\n",
    "3. MatPlotLib\n",
    "4. Seaborn"
   ]
  },
  {
   "cell_type": "markdown",
   "id": "921ba4fd-94ac-40b2-8254-c869cfb2b585",
   "metadata": {},
   "source": [
    "|Data Science Tools|\n",
    "-------------------\n",
    "|Jupyter NoteBook|\n",
    "|RStudio|\n",
    "|Zeppelin NoteBook|\n"
   ]
  },
  {
   "cell_type": "markdown",
   "id": "f0dd25a4-8917-4fe4-8331-3f1c2a3b8ed7",
   "metadata": {},
   "source": [
    "### Below are a few examples of evaluating arithmetic expressions in Python"
   ]
  },
  {
   "cell_type": "code",
   "execution_count": 16,
   "id": "195d676b-2096-4836-8b4e-24d6efdc4b69",
   "metadata": {},
   "outputs": [
    {
     "data": {
      "text/plain": [
       "17"
      ]
     },
     "execution_count": 16,
     "metadata": {},
     "output_type": "execute_result"
    }
   ],
   "source": [
    "#This a simple arithmetic expression to multiply then add integers\n",
    "(3*4)+5"
   ]
  },
  {
   "cell_type": "code",
   "execution_count": 24,
   "id": "8c0889af-f563-45e1-9b3d-bc7b4af42997",
   "metadata": {},
   "outputs": [
    {
     "name": "stdout",
     "output_type": "stream",
     "text": [
      " Time in hours  3.3333333333333335\n"
     ]
    }
   ],
   "source": [
    "# This will convert 200 minutes to hours by diving by 60\n",
    "t_minutes = 200\n",
    "t_hours = t_minutes/60 \n",
    "print(\" Time in hours \", t_hours)"
   ]
  },
  {
   "cell_type": "markdown",
   "id": "9129d520-56f0-49a9-acea-0e1079c33730",
   "metadata": {},
   "source": [
    "## Author\n",
    "Nithin Kamaraj"
   ]
  },
  {
   "cell_type": "code",
   "execution_count": null,
   "id": "cb50d609-c083-4782-8ed0-0e3fffa9b8d1",
   "metadata": {},
   "outputs": [],
   "source": []
  }
 ],
 "metadata": {
  "kernelspec": {
   "display_name": "Python 3 (ipykernel)",
   "language": "python",
   "name": "python3"
  },
  "language_info": {
   "codemirror_mode": {
    "name": "ipython",
    "version": 3
   },
   "file_extension": ".py",
   "mimetype": "text/x-python",
   "name": "python",
   "nbconvert_exporter": "python",
   "pygments_lexer": "ipython3",
   "version": "3.12.4"
  }
 },
 "nbformat": 4,
 "nbformat_minor": 5
}
